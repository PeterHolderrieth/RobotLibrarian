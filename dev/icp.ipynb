{
 "cells": [
  {
   "cell_type": "markdown",
   "metadata": {},
   "source": [
    "# Iterative Closest Point to find book"
   ]
  },
  {
   "cell_type": "code",
   "execution_count": null,
   "metadata": {},
   "outputs": [
    {
     "ename": "",
     "evalue": "",
     "output_type": "error",
     "traceback": [
      "\u001b[1;31mFailed to start the Kernel 'Python 3 (ipykernel)'. \n",
      "\u001b[1;31mView Jupyter <a href='command:jupyter.viewOutput'>log</a> for further details. Cannot find module './351.node.js'\n",
      "\u001b[1;31mRequire stack:\n",
      "\u001b[1;31m- /root/.vscode-server/extensions/ms-toolsai.jupyter-2023.10.1100000000-linux-x64/out/extension.node.js\n",
      "\u001b[1;31m- /vscode/vscode-server/bin/linux-x64/1a5daa3a0231a0fbba4f14db7ec463cf99d7768e/out/vs/loader.js\n",
      "\u001b[1;31m- /vscode/vscode-server/bin/linux-x64/1a5daa3a0231a0fbba4f14db7ec463cf99d7768e/out/bootstrap-amd.js\n",
      "\u001b[1;31m- /vscode/vscode-server/bin/linux-x64/1a5daa3a0231a0fbba4f14db7ec463cf99d7768e/out/bootstrap-fork.js"
     ]
    }
   ],
   "source": [
    "import numpy as np\n",
    "import matplotlib.pyplot as plt \n",
    "import trimesh\n",
    "from typing import List \n",
    "#Drake utils\n",
    "from pydrake.all import (\n",
    "    Concatenate,\n",
    "    Parser,\n",
    "    RigidTransform,\n",
    "    Simulator,\n",
    "    MultibodyPlant,\n",
    "    DiagramBuilder,\n",
    "    Context\n",
    ")\n",
    "from IPython.display import HTML, SVG, display\n",
    "from pydrake.systems.framework import Diagram\n",
    "from manipulation.station import MakeHardwareStation, load_scenario\n",
    "from manipulation.utils import ConfigureParser\n",
    "from pydrake.all import (\n",
    "    RigidTransform,\n",
    "    Simulator,\n",
    "    MultibodyPlant,\n",
    "    DiagramBuilder,\n",
    "    Meshcat, \n",
    "    DiagramBuilder, \n",
    "    Parser, \n",
    "    AddMultibodyPlantSceneGraph,\n",
    "    MeshcatVisualizer,\n",
    "    Diagram\n",
    ")\n",
    "\n",
    "from manipulation.station import AddPointClouds\n",
    "\n",
    "import pydot\n",
    "from pydrake.geometry import Meshcat\n",
    "from manipulation.icp import IterativeClosestPoint\n",
    "from pydrake.all import Rgba\n",
    "\n",
    "# Own utils\n",
    "from hwstation.utils import setup_builder, plot_and_simulate, visualize_diagram\n",
    "from hwstation.add_objects import get_library_scenario_data"
   ]
  },
  {
   "cell_type": "code",
   "execution_count": 12,
   "metadata": {},
   "outputs": [
    {
     "name": "stderr",
     "output_type": "stream",
     "text": [
      "==== LCM Warning ===\n",
      "LCM detected that large packets are being received, but the kernel UDP\n",
      "receive buffer is very small.  The possibility of dropping packets due to\n",
      "insufficient buffer space is very high.\n",
      "\n",
      "For more information, visit:\n",
      "   http://lcm-proj.github.io/lcm/multicast_setup.html\n",
      "\n"
     ]
    }
   ],
   "source": [
    "# Start meshcat\n",
    "try:\n",
    "    meshcat = Meshcat(7006)\n",
    "except:\n",
    "    pass #This error appears if this cell is executed twice (port 7006 is already taken then)\n",
    "    \n",
    "# Get string describing scenario\n",
    "scenario_data = get_library_scenario_data()\n",
    "\n",
    "#Setting up all drake simulation objects:\n",
    "builder, plant, scene_graph, station, parser, scenario = setup_builder(meshcat, scenario_data=scenario_data)\n",
    "\n",
    "#Simulate environment (right now, only the books fall on the table)\n",
    "diagram, plant_context, simulator = plot_and_simulate(meshcat, builder, plant, station, time_end=1.5)"
   ]
  },
  {
   "cell_type": "code",
   "execution_count": 13,
   "metadata": {},
   "outputs": [],
   "source": [
    "diagram_context = diagram.CreateDefaultContext()\n",
    "context = station.CreateDefaultContext()"
   ]
  },
  {
   "cell_type": "code",
   "execution_count": 14,
   "metadata": {},
   "outputs": [
    {
     "data": {
      "image/png": "[encoded data removed]",
      "text/plain": [
       "<Figure size 640x480 with 1 Axes>"
      ]
     },
     "metadata": {},
     "output_type": "display_data"
    }
   ],
   "source": [
    "\n",
    "camera_idx = 2\n",
    "depth_image = station.GetOutputPort(f\"table_camera_{camera_idx}.depth_image\").Eval(context)\n",
    "plt.imshow(depth_image.data)\n",
    "plt.title(f\"camera_{camera_idx}\")\n",
    "plt.show()\n"
   ]
  },
  {
   "cell_type": "markdown",
   "metadata": {},
   "source": [
    "### Observed point cloud"
   ]
  },
  {
   "cell_type": "markdown",
   "metadata": {},
   "source": [
    "We need to extract the information from the depth cameras and merge the point clouds.\n",
    "\n",
    "TODO: need to crop the point clouds. We assume that we know where the table is. Therefore, we \n",
    "1. Could crop the point below the table plate (to remove the table plate from the point cloud, we have done that before in an exercise, we could use that). \n",
    "2. In addition, we wanna remove cameras (everything outside a reasonable box around the table)."
   ]
  },
  {
   "cell_type": "code",
   "execution_count": 15,
   "metadata": {},
   "outputs": [],
   "source": [
    "def get_table_pointclouds(diagram_context: Context):\n",
    "    point_cloud_dict = {}\n",
    "    for idx in range(4):\n",
    "        point_cloud_dict[f\"table_camera_{idx}_ptcloud\"] = diagram.GetOutputPort(f\"table_camera_{idx}_ptcloud\").Eval(diagram_context)\n",
    "    return point_cloud_dict\n",
    "\n",
    "table_pointclouds = get_table_pointclouds(diagram_context)\n",
    "\n",
    "def merge_point_clouds(table_pointclouds: dict, \n",
    "                        downsample_factor: float = 0.005,\n",
    "                        lower_xyz: List[float] = [0.0, -0.2, 0.5564], \n",
    "                        upper_xyz: List[float] = [1.5, 1.5, 0.8]):\n",
    "    pcd = []\n",
    "    for key in table_pointclouds.keys():\n",
    "        cloud = table_pointclouds[key]\n",
    "        pcd.append(\n",
    "            cloud.Crop(lower_xyz=lower_xyz, upper_xyz=upper_xyz)\n",
    "            )\n",
    "    merged_pcd = Concatenate(pcd)\n",
    "    down_sampled_pcd = merged_pcd.VoxelizedDownSample(voxel_size=0.005)\n",
    "    return down_sampled_pcd\n",
    "\n",
    "def get_merged_pointcloud():\n",
    "    \n",
    "    #Get merged point cloud from all cameras:\n",
    "    table_pointclouds = get_table_pointclouds(diagram_context)\n",
    "    merged_pcd = merge_point_clouds(table_pointclouds)\n",
    "\n",
    "    #Ensure that all number are finite:\n",
    "    merged_pcd_np = merged_pcd.xyzs().transpose()\n",
    "    mask_points = (merged_pcd_np== np.inf).all(axis=1)\n",
    "    if mask_points.any():\n",
    "        sys.exit(\"No infinite points were expected\")\n",
    "    return merged_pcd"
   ]
  },
  {
   "cell_type": "code",
   "execution_count": 16,
   "metadata": {},
   "outputs": [],
   "source": [
    "scene_pcl = get_merged_pointcloud()\n",
    "meshcat.SetObject(\"merged_cropped_pcl\", cloud=scene_pcl, point_size=0.004)"
   ]
  },
  {
   "cell_type": "markdown",
   "metadata": {},
   "source": [
    "### Get object geometry as point cloud"
   ]
  },
  {
   "cell_type": "code",
   "execution_count": 18,
   "metadata": {},
   "outputs": [
    {
     "name": "stderr",
     "output_type": "stream",
     "text": [
      "udp_read_packet -- select:: Interrupted system call\n",
      "udp_read_packet -- select:: Interrupted system call\n",
      "udp_read_packet -- select:: Interrupted system call\n",
      "udp_read_packet -- select:: Interrupted system call\n",
      "udp_read_packet -- select:: Interrupted system call\n",
      "udp_read_packet -- select:: Interrupted system call\n",
      "udp_read_packet -- select:: Interrupted system call\n",
      "udp_read_packet -- select:: Interrupted system call\n",
      "udp_read_packet -- select:: Interrupted system call\n",
      "udp_read_packet -- select:: Interrupted system call\n",
      "udp_read_packet -- select:: Interrupted system call\n",
      "udp_read_packet -- select:: Interrupted system call\n"
     ]
    }
   ],
   "source": [
    "def convert_obj_to_pc(filename: str, n_samples: int = 10000, show: bool =False) -> np.ndarray:\n",
    "    book_mesh = trimesh.load(filename)\n",
    "    book_hull = book_mesh.convex_hull\n",
    "    sample_points = book_hull.sample(n_samples)\n",
    "    point_cloud = trimesh.points.PointCloud(sample_points)\n",
    "    if show:\n",
    "        scene = trimesh.Scene([book_hull, point_cloud])\n",
    "        scene.show()\n",
    "    return np.array(point_cloud.vertices).transpose()\n",
    "\n",
    "book_filename = \"hwstation/objects/book.obj\"\n",
    "model_pcl = convert_obj_to_pc(book_filename, show=True)\n",
    "\n",
    "\n"
   ]
  },
  {
   "cell_type": "markdown",
   "metadata": {},
   "source": [
    "## Set initial guess"
   ]
  },
  {
   "cell_type": "code",
   "execution_count": 8,
   "metadata": {},
   "outputs": [],
   "source": [
    "height_table = 0.5\n",
    "initial_guess = RigidTransform(p=[0.0,0.0,height_table])\n"
   ]
  },
  {
   "cell_type": "markdown",
   "metadata": {},
   "source": [
    "## Run ICP"
   ]
  },
  {
   "cell_type": "code",
   "execution_count": 9,
   "metadata": {},
   "outputs": [
    {
     "name": "stdout",
     "output_type": "stream",
     "text": [
      "fixing improper rotation\n"
     ]
    }
   ],
   "source": [
    "X_MS_hat, chat = IterativeClosestPoint(\n",
    "    p_Om=model_pcl,\n",
    "    p_Ws=scene_pcl.xyzs(),\n",
    "    X_Ohat=initial_guess,\n",
    "    meshcat=meshcat,\n",
    "    meshcat_scene_path=\"icp\",\n",
    "    max_iterations=25,\n",
    ")"
   ]
  }
 ],
 "metadata": {
  "kernelspec": {
   "display_name": "Python 3 (ipykernel)",
   "language": "python",
   "name": "python3"
  }
 },
 "nbformat": 4,
 "nbformat_minor": 2
}
