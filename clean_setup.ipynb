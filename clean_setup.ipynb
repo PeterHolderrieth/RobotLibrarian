{
 "cells": [
  {
   "cell_type": "code",
   "execution_count": 1,
   "metadata": {},
   "outputs": [],
   "source": [
    "import numpy as np\n",
    "import trimesh\n",
    "import sys\n",
    "from typing import List \n",
    "from IPython.display import clear_output, SVG\n",
    "from pydrake.all import (\n",
    "    AddMultibodyPlantSceneGraph,\n",
    "    Concatenate,\n",
    "    DiagramBuilder,\n",
    "    MeshcatVisualizer,\n",
    "    MeshcatVisualizerParams,\n",
    "    Parser,\n",
    "    PointCloud,\n",
    "    RigidTransform,\n",
    "    StartMeshcat,\n",
    "    UniformlyRandomRotationMatrix,\n",
    "    Context,\n",
    "    Diagram,\n",
    "    PointCloud,\n",
    "    Simulator,\n",
    "    TrajectorySource,\n",
    "    Solve,\n",
    "    RotationMatrix,\n",
    "    MultibodyPlant\n",
    ")\n",
    "from pydrake.geometry import Meshcat\n",
    "from pydrake.multibody import inverse_kinematics\n",
    "\n",
    "from manipulation.station import MakeHardwareStation, load_scenario\n",
    "from manipulation.meshcat_utils import AddMeshcatTriad\n",
    "from manipulation import running_as_notebook\n",
    "from manipulation.scenarios import AddFloatingRpyJoint, AddRgbdSensors, ycb, AddMultibodyTriad, MakeManipulationStation\n",
    "from manipulation.utils import ConfigureParser\n",
    "from manipulation.clutter import GraspCandidateCost, GenerateAntipodalGraspCandidate\n",
    "from manipulation.icp import IterativeClosestPoint\n",
    "from manipulation.station import AddPointClouds\n",
    "\n",
    "# Own utils\n",
    "from hwstation.add_objects import get_library_scenario_data, get_library_scenario_data_without_robot\n",
    "from enum import Enum\n",
    "\n",
    "from hwstation.utils import visualize_diagram, init_diagram, fix_input_port   "
   ]
  },
  {
   "cell_type": "code",
   "execution_count": 2,
   "metadata": {},
   "outputs": [
    {
     "name": "stderr",
     "output_type": "stream",
     "text": [
      "INFO:drake:Meshcat listening for connections at http://localhost:7007\n"
     ]
    },
    {
     "name": "stdout",
     "output_type": "stream",
     "text": [
      "Station input port size:  <pydrake.systems.framework.InputPort object at 0x7fff930ca830>\n",
      "plant.GetStateNames():  24\n",
      "plant.GetActuatorNames():  12\n",
      "Fixing input port of size:  20\n",
      "Fixing input port of size:  1\n"
     ]
    }
   ],
   "source": [
    "# Start meshcat\n",
    "try:\n",
    "    meshcat = Meshcat(7007)\n",
    "except:\n",
    "    pass #This error appears if this cell is executed twice (port 7006 is already taken then)\n",
    "\n",
    "scenario_data = get_library_scenario_data()\n",
    "diagram, visualizer, simulator = init_diagram(meshcat, scenario_data)\n",
    "fix_input_port(diagram, simulator)"
   ]
  },
  {
   "cell_type": "code",
   "execution_count": 3,
   "metadata": {},
   "outputs": [
    {
     "data": {
      "text/plain": [
       "<pydrake.systems.analysis.SimulatorStatus at 0x7fff8eec48b0>"
      ]
     },
     "execution_count": 3,
     "metadata": {},
     "output_type": "execute_result"
    }
   ],
   "source": [
    "simulator.AdvanceTo(1.0)"
   ]
  },
  {
   "cell_type": "code",
   "execution_count": 5,
   "metadata": {},
   "outputs": [],
   "source": [
    "visualize_diagram(diagram)"
   ]
  }
 ],
 "metadata": {
  "kernelspec": {
   "display_name": "Python 3 (ipykernel)",
   "language": "python",
   "name": "python3"
  },
  "language_info": {
   "codemirror_mode": {
    "name": "ipython",
    "version": 3
   },
   "file_extension": ".py",
   "mimetype": "text/x-python",
   "name": "python",
   "nbconvert_exporter": "python",
   "pygments_lexer": "ipython3",
   "version": "3.10.12"
  }
 },
 "nbformat": 4,
 "nbformat_minor": 2
}
