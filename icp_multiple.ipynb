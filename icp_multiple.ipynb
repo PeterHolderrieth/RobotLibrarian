{
 "cells": [
  {
   "cell_type": "markdown",
   "metadata": {},
   "source": [
    "## Generating and Visualizing Antipodal Grasps on Book"
   ]
  },
  {
   "cell_type": "code",
   "execution_count": 1,
   "metadata": {},
   "outputs": [],
   "source": [
    "%load_ext autoreload\n",
    "%autoreload 2"
   ]
  },
  {
   "cell_type": "code",
   "execution_count": 2,
   "metadata": {},
   "outputs": [],
   "source": [
    "import numpy as np\n",
    "import trimesh\n",
    "import sys\n",
    "from typing import List \n",
    "from IPython.display import clear_output\n",
    "from pydrake.all import (\n",
    "    AddMultibodyPlantSceneGraph,\n",
    "    Concatenate,\n",
    "    DiagramBuilder,\n",
    "    MeshcatVisualizer,\n",
    "    MeshcatVisualizerParams,\n",
    "    Parser,\n",
    "    PointCloud,\n",
    "    RigidTransform,\n",
    "    StartMeshcat,\n",
    "    UniformlyRandomRotationMatrix,\n",
    "    Context,\n",
    "    Diagram,\n",
    "    PointCloud,\n",
    "    Simulator,\n",
    "    TrajectorySource,\n",
    "    Solve,\n",
    "    RotationMatrix,\n",
    "    MultibodyPlant,\n",
    "    eq,\n",
    "    StateInterpolatorWithDiscreteDerivative,\n",
    "    MinimumDistanceLowerBoundConstraint,\n",
    "    RollPitchYaw,\n",
    "    SolutionResult,\n",
    "    CollisionFilterDeclaration,\n",
    "    GeometrySet,\n",
    "    Role,\n",
    ")\n",
    "from pydrake.geometry import Meshcat\n",
    "from pydrake.multibody import inverse_kinematics\n",
    "\n",
    "from manipulation.meshcat_utils import AddMeshcatTriad\n",
    "from manipulation import running_as_notebook\n",
    "from manipulation.scenarios import AddFloatingRpyJoint, AddRgbdSensors, ycb, AddMultibodyTriad, MakeManipulationStation\n",
    "from manipulation.utils import ConfigureParser\n",
    "from manipulation.clutter import GraspCandidateCost, GenerateAntipodalGraspCandidate\n",
    "from manipulation.icp import IterativeClosestPoint\n",
    "from manipulation.pick import (\n",
    "    MakeGripperCommandTrajectory,\n",
    "    MakeGripperFrames,\n",
    "    MakeGripperPoseTrajectory,\n",
    ")\n",
    "# Own utils\n",
    "from hwstation.utils import init_diagram, fix_input_port, visualize_diagram, filterCollsionGeometry, get_iiwa_joint_state\n",
    "from hwstation.add_objects import *\n",
    "from perception.icp import run_table_book_icp, check_quality_of_icp\n",
    "from rrt.rrt_planning import *\n",
    "from grasp.grasping import *\n",
    "\n",
    "from enum import Enum\n",
    "import pandas as pd\n",
    "\n",
    "from manipulation.station import MakeHardwareStation, load_scenario\n",
    "from manipulation.station import AddPointClouds\n",
    "from random import random\n",
    "from manipulation.pick import *\n",
    "#from manipulation.pick import *"
   ]
  },
  {
   "cell_type": "markdown",
   "metadata": {},
   "source": [
    "## 1. Setup environment"
   ]
  },
  {
   "cell_type": "code",
   "execution_count": 7,
   "metadata": {},
   "outputs": [
    {
     "name": "stdout",
     "output_type": "stream",
     "text": [
      "Station input port size:  <pydrake.systems.framework.InputPort object at 0x7fff8c9b5bb0>\n",
      "plant.GetStateNames():  154\n",
      "plant.GetActuatorNames():  12\n",
      "Fixing input port of size:  20\n",
      "Fixing input port of size:  1\n"
     ]
    },
    {
     "name": "stderr",
     "output_type": "stream",
     "text": [
      "==== LCM Warning ===\n",
      "LCM detected that large packets are being received, but the kernel UDP\n",
      "receive buffer is very small.  The possibility of dropping packets due to\n",
      "insufficient buffer space is very high.\n",
      "\n",
      "For more information, visit:\n",
      "   http://lcm-proj.github.io/lcm/multicast_setup.html\n",
      "\n"
     ]
    }
   ],
   "source": [
    "# Start meshcat\n",
    "try:\n",
    "    meshcat = Meshcat(7005)\n",
    "except:\n",
    "    pass #This error appears if this cell is executed twice (port 7006 is already taken then)\n",
    "\n",
    "scenario_data = get_library_scenario_data()\n",
    "diagram_plan, visualizer, simulator = init_diagram(meshcat, scenario_data)\n",
    "fix_input_port(diagram_plan, simulator)\n",
    "diagram_plan_context = diagram_plan.CreateDefaultContext()\n",
    "scene_graph = diagram_plan.GetSubsystemByName(\"station\").GetSubsystemByName(\"scene_graph\")\n",
    "sg_context = scene_graph.GetMyContextFromRoot(diagram_plan_context)\n",
    "filterCollsionGeometry(scene_graph, sg_context)\n",
    "q0_init = get_iiwa_joint_state(diagram_plan, diagram_plan_context)\n",
    "simulator.AdvanceTo(1.0)\n",
    "diagram_plan_context = simulator.get_mutable_context()\n"
   ]
  },
  {
   "cell_type": "markdown",
   "metadata": {},
   "source": [
    "## 2. Running ICP to find point cloud"
   ]
  },
  {
   "cell_type": "code",
   "execution_count": 5,
   "metadata": {},
   "outputs": [],
   "source": [
    "from perception.icp import *"
   ]
  },
  {
   "cell_type": "code",
   "execution_count": 11,
   "metadata": {},
   "outputs": [],
   "source": [
    "merged_pointcloud = get_merged_pointcloud(diagram_plan_context,diagram_plan)"
   ]
  },
  {
   "cell_type": "code",
   "execution_count": 15,
   "metadata": {},
   "outputs": [],
   "source": [
    "pcloud = merged_pointcloud.xyzs().transpose()"
   ]
  },
  {
   "cell_type": "code",
   "execution_count": 17,
   "metadata": {},
   "outputs": [],
   "source": [
    "from sklearn.cluster import KMeans"
   ]
  },
  {
   "cell_type": "code",
   "execution_count": 28,
   "metadata": {},
   "outputs": [],
   "source": [
    "plant = diagram_plan.GetSubsystemByName(\"station\").GetSubsystemByName(\"plant\")"
   ]
  },
  {
   "cell_type": "code",
   "execution_count": 38,
   "metadata": {},
   "outputs": [],
   "source": [
    "plant_context = plant.GetMyContextFromRoot(diagram_plan_context)\n",
    "table_frame = plant.GetFrameByName(\"table\")\n",
    "table_frame = table_frame.CalcPoseInWorld(plant_context)"
   ]
  },
  {
   "cell_type": "code",
   "execution_count": 43,
   "metadata": {},
   "outputs": [],
   "source": [
    "length_table = 1.4\n",
    "start = table_frame.translation()\n",
    "end = start.copy()\n",
    "end[0] = end[0] + length_table\n",
    "k_init = np.linspace(start,end,10)"
   ]
  },
  {
   "cell_type": "code",
   "execution_count": 44,
   "metadata": {},
   "outputs": [],
   "source": [
    "kmeans = KMeans(n_clusters=10, init = k_init) "
   ]
  },
  {
   "cell_type": "code",
   "execution_count": 45,
   "metadata": {},
   "outputs": [
    {
     "name": "stderr",
     "output_type": "stream",
     "text": [
      "/usr/local/lib/python3.10/dist-packages/sklearn/cluster/_kmeans.py:1416: FutureWarning: The default value of `n_init` will change from 10 to 'auto' in 1.4. Set the value of `n_init` explicitly to suppress the warning\n",
      "  super()._check_params_vs_input(X, default_n_init=10)\n",
      "/usr/local/lib/python3.10/dist-packages/sklearn/cluster/_kmeans.py:1416: RuntimeWarning: Explicit initial center position passed: performing only one init in KMeans instead of n_init=10.\n",
      "  super()._check_params_vs_input(X, default_n_init=10)\n"
     ]
    }
   ],
   "source": [
    "predict = kmeans.fit_predict(pcloud)"
   ]
  },
  {
   "cell_type": "code",
   "execution_count": 46,
   "metadata": {},
   "outputs": [],
   "source": [
    "import matplotlib.pyplot as plt"
   ]
  },
  {
   "cell_type": "code",
   "execution_count": 47,
   "metadata": {},
   "outputs": [
    {
     "data": {
      "text/plain": [
       "[<matplotlib.lines.Line2D at 0x7ffe647d9ab0>]"
      ]
     },
     "execution_count": 47,
     "metadata": {},
     "output_type": "execute_result"
    },
    {
     "data": {
      "image/png": "[encoded data removed]",
      "text/plain": [
       "<Figure size 432x288 with 1 Axes>"
      ]
     },
     "metadata": {
      "needs_background": "light"
     },
     "output_type": "display_data"
    }
   ],
   "source": [
    "plt.plot(kmeans.cluster_centers_[:,0],kmeans.cluster_centers_[:,1])"
   ]
  },
  {
   "cell_type": "code",
   "execution_count": 22,
   "metadata": {},
   "outputs": [
    {
     "data": {
      "text/plain": [
       "array([1, 6, 6, ..., 2, 7, 9], dtype=int32)"
      ]
     },
     "execution_count": 22,
     "metadata": {},
     "output_type": "execute_result"
    }
   ],
   "source": [
    "predict"
   ]
  },
  {
   "cell_type": "code",
   "execution_count": 20,
   "metadata": {},
   "outputs": [
    {
     "name": "stderr",
     "output_type": "stream",
     "text": [
      "/usr/local/lib/python3.10/dist-packages/sklearn/cluster/_kmeans.py:1416: FutureWarning: The default value of `n_init` will change from 10 to 'auto' in 1.4. Set the value of `n_init` explicitly to suppress the warning\n",
      "  super()._check_params_vs_input(X, default_n_init=10)\n",
      "udp_read_packet -- select:: Interrupted system call\n",
      "udp_read_packet -- select:: Interrupted system call\n",
      "udp_read_packet -- select:: Interrupted system call\n",
      "udp_read_packet -- select:: Interrupted system call\n",
      "udp_read_packet -- select:: Interrupted system call\n",
      "udp_read_packet -- select:: Interrupted system call\n"
     ]
    },
    {
     "data": {
      "text/html": [
       "<style>#sk-container-id-2 {color: black;}#sk-container-id-2 pre{padding: 0;}#sk-container-id-2 div.sk-toggleable {background-color: white;}#sk-container-id-2 label.sk-toggleable__label {cursor: pointer;display: block;width: 100%;margin-bottom: 0;padding: 0.3em;box-sizing: border-box;text-align: center;}#sk-container-id-2 label.sk-toggleable__label-arrow:before {content: \"▸\";float: left;margin-right: 0.25em;color: #696969;}#sk-container-id-2 label.sk-toggleable__label-arrow:hover:before {color: black;}#sk-container-id-2 div.sk-estimator:hover label.sk-toggleable__label-arrow:before {color: black;}#sk-container-id-2 div.sk-toggleable__content {max-height: 0;max-width: 0;overflow: hidden;text-align: left;background-color: #f0f8ff;}#sk-container-id-2 div.sk-toggleable__content pre {margin: 0.2em;color: black;border-radius: 0.25em;background-color: #f0f8ff;}#sk-container-id-2 input.sk-toggleable__control:checked~div.sk-toggleable__content {max-height: 200px;max-width: 100%;overflow: auto;}#sk-container-id-2 input.sk-toggleable__control:checked~label.sk-toggleable__label-arrow:before {content: \"▾\";}#sk-container-id-2 div.sk-estimator input.sk-toggleable__control:checked~label.sk-toggleable__label {background-color: #d4ebff;}#sk-container-id-2 div.sk-label input.sk-toggleable__control:checked~label.sk-toggleable__label {background-color: #d4ebff;}#sk-container-id-2 input.sk-hidden--visually {border: 0;clip: rect(1px 1px 1px 1px);clip: rect(1px, 1px, 1px, 1px);height: 1px;margin: -1px;overflow: hidden;padding: 0;position: absolute;width: 1px;}#sk-container-id-2 div.sk-estimator {font-family: monospace;background-color: #f0f8ff;border: 1px dotted black;border-radius: 0.25em;box-sizing: border-box;margin-bottom: 0.5em;}#sk-container-id-2 div.sk-estimator:hover {background-color: #d4ebff;}#sk-container-id-2 div.sk-parallel-item::after {content: \"\";width: 100%;border-bottom: 1px solid gray;flex-grow: 1;}#sk-container-id-2 div.sk-label:hover label.sk-toggleable__label {background-color: #d4ebff;}#sk-container-id-2 div.sk-serial::before {content: \"\";position: absolute;border-left: 1px solid gray;box-sizing: border-box;top: 0;bottom: 0;left: 50%;z-index: 0;}#sk-container-id-2 div.sk-serial {display: flex;flex-direction: column;align-items: center;background-color: white;padding-right: 0.2em;padding-left: 0.2em;position: relative;}#sk-container-id-2 div.sk-item {position: relative;z-index: 1;}#sk-container-id-2 div.sk-parallel {display: flex;align-items: stretch;justify-content: center;background-color: white;position: relative;}#sk-container-id-2 div.sk-item::before, #sk-container-id-2 div.sk-parallel-item::before {content: \"\";position: absolute;border-left: 1px solid gray;box-sizing: border-box;top: 0;bottom: 0;left: 50%;z-index: -1;}#sk-container-id-2 div.sk-parallel-item {display: flex;flex-direction: column;z-index: 1;position: relative;background-color: white;}#sk-container-id-2 div.sk-parallel-item:first-child::after {align-self: flex-end;width: 50%;}#sk-container-id-2 div.sk-parallel-item:last-child::after {align-self: flex-start;width: 50%;}#sk-container-id-2 div.sk-parallel-item:only-child::after {width: 0;}#sk-container-id-2 div.sk-dashed-wrapped {border: 1px dashed gray;margin: 0 0.4em 0.5em 0.4em;box-sizing: border-box;padding-bottom: 0.4em;background-color: white;}#sk-container-id-2 div.sk-label label {font-family: monospace;font-weight: bold;display: inline-block;line-height: 1.2em;}#sk-container-id-2 div.sk-label-container {text-align: center;}#sk-container-id-2 div.sk-container {/* jupyter's `normalize.less` sets `[hidden] { display: none; }` but bootstrap.min.css set `[hidden] { display: none !important; }` so we also need the `!important` here to be able to override the default hidden behavior on the sphinx rendered scikit-learn.org. See: https://github.com/scikit-learn/scikit-learn/issues/21755 */display: inline-block !important;position: relative;}#sk-container-id-2 div.sk-text-repr-fallback {display: none;}</style><div id=\"sk-container-id-2\" class=\"sk-top-container\"><div class=\"sk-text-repr-fallback\"><pre>KMeans(n_clusters=10)</pre><b>In a Jupyter environment, please rerun this cell to show the HTML representation or trust the notebook. <br />On GitHub, the HTML representation is unable to render, please try loading this page with nbviewer.org.</b></div><div class=\"sk-container\" hidden><div class=\"sk-item\"><div class=\"sk-estimator sk-toggleable\"><input class=\"sk-toggleable__control sk-hidden--visually\" id=\"sk-estimator-id-2\" type=\"checkbox\" checked><label for=\"sk-estimator-id-2\" class=\"sk-toggleable__label sk-toggleable__label-arrow\">KMeans</label><div class=\"sk-toggleable__content\"><pre>KMeans(n_clusters=10)</pre></div></div></div></div></div>"
      ],
      "text/plain": [
       "KMeans(n_clusters=10)"
      ]
     },
     "execution_count": 20,
     "metadata": {},
     "output_type": "execute_result"
    }
   ],
   "source": [
    "kmeans.fit(pcloud)"
   ]
  },
  {
   "cell_type": "code",
   "execution_count": null,
   "metadata": {},
   "outputs": [],
   "source": [
    "kmeans.predict()"
   ]
  },
  {
   "cell_type": "code",
   "execution_count": 5,
   "metadata": {},
   "outputs": [],
   "source": [
    "icp_cloud, X_MS_hat = run_table_book_icp(diagram_plan, diagram_plan_context, meshcat)"
   ]
  },
  {
   "cell_type": "code",
   "execution_count": null,
   "metadata": {},
   "outputs": [],
   "source": []
  }
 ],
 "metadata": {
  "kernelspec": {
   "display_name": "Python 3",
   "language": "python",
   "name": "python3"
  },
  "language_info": {
   "codemirror_mode": {
    "name": "ipython",
    "version": 3
   },
   "file_extension": ".py",
   "mimetype": "text/x-python",
   "name": "python",
   "nbconvert_exporter": "python",
   "pygments_lexer": "ipython3",
   "version": "3.10.12"
  }
 },
 "nbformat": 4,
 "nbformat_minor": 2
}
