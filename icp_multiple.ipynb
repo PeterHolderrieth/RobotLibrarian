{
 "cells": [
  {
   "cell_type": "markdown",
   "metadata": {},
   "source": [
    "## Generating and Visualizing Antipodal Grasps on Book"
   ]
  },
  {
   "cell_type": "code",
   "execution_count": 1,
   "metadata": {},
   "outputs": [],
   "source": [
    "%load_ext autoreload\n",
    "%autoreload 2"
   ]
  },
  {
   "cell_type": "code",
   "execution_count": 2,
   "metadata": {},
   "outputs": [],
   "source": [
    "import numpy as np\n",
    "import trimesh\n",
    "import sys\n",
    "from typing import List \n",
    "from IPython.display import clear_output\n",
    "from pydrake.all import (\n",
    "    AddMultibodyPlantSceneGraph,\n",
    "    Concatenate,\n",
    "    DiagramBuilder,\n",
    "    MeshcatVisualizer,\n",
    "    MeshcatVisualizerParams,\n",
    "    Parser,\n",
    "    PointCloud,\n",
    "    RigidTransform,\n",
    "    StartMeshcat,\n",
    "    UniformlyRandomRotationMatrix,\n",
    "    Context,\n",
    "    Diagram,\n",
    "    PointCloud,\n",
    "    Simulator,\n",
    "    TrajectorySource,\n",
    "    Solve,\n",
    "    RotationMatrix,\n",
    "    MultibodyPlant,\n",
    "    eq,\n",
    "    StateInterpolatorWithDiscreteDerivative,\n",
    "    MinimumDistanceLowerBoundConstraint,\n",
    "    RollPitchYaw,\n",
    "    SolutionResult,\n",
    "    CollisionFilterDeclaration,\n",
    "    GeometrySet,\n",
    "    Role,\n",
    ")\n",
    "from pydrake.geometry import Meshcat\n",
    "from pydrake.multibody import inverse_kinematics\n",
    "\n",
    "from manipulation.meshcat_utils import AddMeshcatTriad\n",
    "from manipulation import running_as_notebook\n",
    "from manipulation.scenarios import AddFloatingRpyJoint, AddRgbdSensors, ycb, AddMultibodyTriad, MakeManipulationStation\n",
    "from manipulation.utils import ConfigureParser\n",
    "from manipulation.clutter import GraspCandidateCost, GenerateAntipodalGraspCandidate\n",
    "from manipulation.icp import IterativeClosestPoint\n",
    "from manipulation.pick import (\n",
    "    MakeGripperCommandTrajectory,\n",
    "    MakeGripperFrames,\n",
    "    MakeGripperPoseTrajectory,\n",
    ")\n",
    "# Own utils\n",
    "from hwstation.utils import init_diagram, fix_input_port, visualize_diagram, filterCollsionGeometry, get_iiwa_joint_state\n",
    "from hwstation.add_objects import *\n",
    "from perception.icp import run_table_multi_book_icp, check_quality_of_icp\n",
    "from rrt.rrt_planning import *\n",
    "from grasp.grasping import *\n",
    "\n",
    "from enum import Enum\n",
    "import pandas as pd\n",
    "\n",
    "from manipulation.station import MakeHardwareStation, load_scenario\n",
    "from manipulation.station import AddPointClouds\n",
    "from random import random\n",
    "from manipulation.pick import *\n",
    "#from manipulation.pick import *\n",
    "\n",
    "import matplotlib.pyplot as plt"
   ]
  },
  {
   "cell_type": "markdown",
   "metadata": {},
   "source": [
    "## 1. Setup environment"
   ]
  },
  {
   "cell_type": "code",
   "execution_count": 3,
   "metadata": {},
   "outputs": [
    {
     "name": "stderr",
     "output_type": "stream",
     "text": [
      "INFO:drake:Meshcat listening for connections at http://localhost:7005\n"
     ]
    },
    {
     "name": "stdout",
     "output_type": "stream",
     "text": [
      "Station input port size:  <pydrake.systems.framework.InputPort object at 0x7fff89dde830>\n",
      "plant.GetStateNames():  154\n",
      "plant.GetActuatorNames():  12\n",
      "Fixing input port of size:  20\n",
      "Fixing input port of size:  1\n"
     ]
    },
    {
     "name": "stderr",
     "output_type": "stream",
     "text": [
      "==== LCM Warning ===\n",
      "LCM detected that large packets are being received, but the kernel UDP\n",
      "receive buffer is very small.  The possibility of dropping packets due to\n",
      "insufficient buffer space is very high.\n",
      "\n",
      "For more information, visit:\n",
      "   http://lcm-proj.github.io/lcm/multicast_setup.html\n",
      "\n"
     ]
    }
   ],
   "source": [
    "# Start meshcat\n",
    "try:\n",
    "    meshcat = Meshcat(7005)\n",
    "except:\n",
    "    pass #This error appears if this cell is executed twice (port 7006 is already taken then)\n",
    "\n",
    "scenario_data = get_library_scenario_data()\n",
    "diagram_plan, visualizer, simulator = init_diagram(meshcat, scenario_data)\n",
    "fix_input_port(diagram_plan, simulator)\n",
    "diagram_plan_context = diagram_plan.CreateDefaultContext()\n",
    "scene_graph = diagram_plan.GetSubsystemByName(\"station\").GetSubsystemByName(\"scene_graph\")\n",
    "sg_context = scene_graph.GetMyContextFromRoot(diagram_plan_context)\n",
    "filterCollsionGeometry(scene_graph, sg_context)\n",
    "q0_init = get_iiwa_joint_state(diagram_plan, diagram_plan_context)\n",
    "simulator.AdvanceTo(1.0)\n",
    "diagram_plan_context = simulator.get_mutable_context()\n"
   ]
  },
  {
   "cell_type": "markdown",
   "metadata": {},
   "source": [
    "## 2. Running ICP to find point cloud"
   ]
  },
  {
   "cell_type": "code",
   "execution_count": 4,
   "metadata": {},
   "outputs": [],
   "source": [
    "from perception.icp import *\n",
    "from hwstation.utils import visualize_frame"
   ]
  },
  {
   "cell_type": "code",
   "execution_count": 5,
   "metadata": {},
   "outputs": [
    {
     "name": "stdout",
     "output_type": "stream",
     "text": [
      "fixing improper rotation\n"
     ]
    }
   ],
   "source": [
    "icp_cloud_list, X_MS_hat_list = run_table_multi_book_icp(diagram_plan, diagram_plan_context, meshcat,icp_limit=0)\n",
    "for idx, X_MS_hat in enumerate(X_MS_hat_list):\n",
    "    visualize_frame(str(idx),meshcat, X_MS_hat)"
   ]
  }
 ],
 "metadata": {
  "kernelspec": {
   "display_name": "Python 3",
   "language": "python",
   "name": "python3"
  },
  "language_info": {
   "codemirror_mode": {
    "name": "ipython",
    "version": 3
   },
   "file_extension": ".py",
   "mimetype": "text/x-python",
   "name": "python",
   "nbconvert_exporter": "python",
   "pygments_lexer": "ipython3",
   "version": "3.10.12"
  }
 },
 "nbformat": 4,
 "nbformat_minor": 2
}
