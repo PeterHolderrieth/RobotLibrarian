{
 "cells": [
  {
   "cell_type": "code",
   "execution_count": 5,
   "id": "132c157f-9c83-4b20-aab1-896b79d8ea31",
   "metadata": {
    "execution": {
     "iopub.execute_input": "2023-11-10T18:27:41.803627Z",
     "iopub.status.busy": "2023-11-10T18:27:41.803256Z",
     "iopub.status.idle": "2023-11-10T18:27:41.807272Z",
     "shell.execute_reply": "2023-11-10T18:27:41.806483Z",
     "shell.execute_reply.started": "2023-11-10T18:27:41.803603Z"
    },
    "tags": []
   },
   "outputs": [],
   "source": [
    "import torch"
   ]
  },
  {
   "cell_type": "code",
   "execution_count": 4,
   "id": "b40ef010-02ef-453d-a3ec-c95f184e074a",
   "metadata": {
    "execution": {
     "iopub.execute_input": "2023-11-10T18:27:38.286882Z",
     "iopub.status.busy": "2023-11-10T18:27:38.286481Z",
     "iopub.status.idle": "2023-11-10T18:27:38.721514Z",
     "shell.execute_reply": "2023-11-10T18:27:38.720680Z",
     "shell.execute_reply.started": "2023-11-10T18:27:38.286855Z"
    },
    "tags": []
   },
   "outputs": [
    {
     "name": "stderr",
     "output_type": "stream",
     "text": [
      "Using cache found in /home/jovyan/.cache/torch/hub/facebookresearch_dino_main\n"
     ]
    }
   ],
   "source": [
    "model = torch.hub.load('facebookresearch/dino:main', 'dino_vits16', pretrained=True)"
   ]
  }
 ],
 "metadata": {
  "kernelspec": {
   "display_name": "saturn (Python 3)",
   "language": "python",
   "name": "python3"
  },
  "language_info": {
   "codemirror_mode": {
    "name": "ipython",
    "version": 3
   },
   "file_extension": ".py",
   "mimetype": "text/x-python",
   "name": "python",
   "nbconvert_exporter": "python",
   "pygments_lexer": "ipython3",
   "version": "3.9.15"
  }
 },
 "nbformat": 4,
 "nbformat_minor": 5
}
