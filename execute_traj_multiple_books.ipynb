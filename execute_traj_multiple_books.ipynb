{
 "cells": [
  {
   "cell_type": "markdown",
   "metadata": {},
   "source": [
    "## Generating and Visualizing Antipodal Grasps on Book"
   ]
  },
  {
   "cell_type": "code",
   "execution_count": 1,
   "metadata": {},
   "outputs": [],
   "source": [
    "%load_ext autoreload\n",
    "%autoreload 2"
   ]
  },
  {
   "cell_type": "code",
   "execution_count": 2,
   "metadata": {},
   "outputs": [],
   "source": [
    "import numpy as np\n",
    "import trimesh\n",
    "import sys\n",
    "from typing import List \n",
    "from IPython.display import clear_output\n",
    "from pydrake.all import (\n",
    "    AddMultibodyPlantSceneGraph,\n",
    "    Concatenate,\n",
    "    DiagramBuilder,\n",
    "    MeshcatVisualizer,\n",
    "    MeshcatVisualizerParams,\n",
    "    Parser,\n",
    "    PointCloud,\n",
    "    RigidTransform,\n",
    "    StartMeshcat,\n",
    "    UniformlyRandomRotationMatrix,\n",
    "    Context,\n",
    "    Diagram,\n",
    "    PointCloud,\n",
    "    Simulator,\n",
    "    TrajectorySource,\n",
    "    Solve,\n",
    "    RotationMatrix,\n",
    "    MultibodyPlant,\n",
    "    eq,\n",
    "    StateInterpolatorWithDiscreteDerivative,\n",
    "    MinimumDistanceLowerBoundConstraint,\n",
    "    RollPitchYaw,\n",
    "    SolutionResult,\n",
    "    CollisionFilterDeclaration,\n",
    "    GeometrySet,\n",
    "    Role,\n",
    ")\n",
    "from pydrake.geometry import Meshcat\n",
    "from pydrake.multibody import inverse_kinematics\n",
    "\n",
    "from manipulation.meshcat_utils import AddMeshcatTriad\n",
    "from manipulation import running_as_notebook\n",
    "from manipulation.scenarios import AddFloatingRpyJoint, AddRgbdSensors, ycb, AddMultibodyTriad, MakeManipulationStation\n",
    "from manipulation.utils import ConfigureParser\n",
    "from manipulation.clutter import GraspCandidateCost, GenerateAntipodalGraspCandidate\n",
    "from manipulation.icp import IterativeClosestPoint\n",
    "from manipulation.pick import (\n",
    "    MakeGripperCommandTrajectory,\n",
    "    MakeGripperFrames,\n",
    "    MakeGripperPoseTrajectory,\n",
    ")\n",
    "# Own utils\n",
    "from hwstation.utils import * \n",
    "from hwstation.add_objects import *\n",
    "from perception.icp import run_table_multi_book_icp, check_quality_of_icp\n",
    "from rrt.rrt_planning import *\n",
    "from grasp.grasping import *\n",
    "\n",
    "from enum import Enum\n",
    "import pandas as pd\n",
    "\n",
    "from manipulation.station import MakeHardwareStation, load_scenario\n",
    "from manipulation.station import AddPointClouds\n",
    "from random import random\n",
    "from manipulation.pick import *\n",
    "#from manipulation.pick import *"
   ]
  },
  {
   "cell_type": "markdown",
   "metadata": {},
   "source": [
    "## 1. Setup environment"
   ]
  },
  {
   "cell_type": "code",
   "execution_count": 3,
   "metadata": {},
   "outputs": [
    {
     "name": "stderr",
     "output_type": "stream",
     "text": [
      "INFO:drake:Meshcat listening for connections at http://localhost:7009\n"
     ]
    }
   ],
   "source": [
    "# Start meshcat\n",
    "try:\n",
    "    meshcat = Meshcat(7009)\n",
    "except:\n",
    "    pass #This error appears if this cell is executed twice (port 7006 is already taken then)\n"
   ]
  },
  {
   "cell_type": "code",
   "execution_count": 4,
   "metadata": {},
   "outputs": [],
   "source": [
    "shelf_labels = [\"A\",\"B\"] #,\"C\",\"D\",\"E\",\"F\"]\n",
    "shelf_pos_list = [(1,1),(0,0)]\n",
    "N_BOOKS_TO_GRASP = 2\n",
    "book_grasp_dur = 10.0\n",
    "Q_TRAJECTORY_FPATH = \"trajectories/2_q_book_traj\"\n",
    "WSG_TRAJECTORY_FPATH = \"trajectories/2_wsg_book_traj\""
   ]
  },
  {
   "cell_type": "code",
   "execution_count": 5,
   "metadata": {},
   "outputs": [],
   "source": [
    "time_point_list = [(None, 0.0)]\n",
    "for idx in range(N_BOOKS_TO_GRASP):\n",
    "    end_time = time_point_list[-1][1]\n",
    "    book_grasp_time = end_time + book_grasp_dur\n",
    "    \n",
    "    shelf_placement_dur = 20.0\n",
    "\n",
    "    if shelf_labels[idx] in [\"B\", \"C\"]:\n",
    "        shelf_placement_dur = 30.0\n",
    "\n",
    "    if shelf_labels[idx] in [\"D\", \"E\"]:\n",
    "        shelf_placement_dur = 40.0\n",
    "\n",
    "    if shelf_labels[idx] == \"F\":\n",
    "        shelf_placement_dur = 60.0\n",
    "\n",
    "    book_pl_time = book_grasp_time + shelf_placement_dur\n",
    "    time_point_list.append((book_grasp_time,book_pl_time))"
   ]
  },
  {
   "cell_type": "code",
   "execution_count": 6,
   "metadata": {},
   "outputs": [
    {
     "name": "stdout",
     "output_type": "stream",
     "text": [
      "(100, 11)\n",
      "(100, 2)\n"
     ]
    }
   ],
   "source": [
    "q_traj_final = load_traj(Q_TRAJECTORY_FPATH)\n",
    "traj_wsg_final = load_traj(WSG_TRAJECTORY_FPATH)\n"
   ]
  },
  {
   "cell_type": "code",
   "execution_count": 7,
   "metadata": {},
   "outputs": [],
   "source": [
    "scenario_data = get_library_scenario_data(cameras=False)\n",
    "meshcat.Delete()\n",
    "builder = DiagramBuilder()\n",
    "scenario = load_scenario(data=scenario_data)\n",
    "station = builder.AddSystem(MakeHardwareStation(scenario, meshcat,parser_preload_callback=ConfigureParser))\n",
    "\n",
    "\n",
    "# COMMENTING OUT THE POINT CLOUD STUFF FOR NOW FOR THE PURPOSE OF VISUALIZING\n",
    "# # Adding point cloud extractors:\n",
    "# to_point_cloud = AddPointClouds(\n",
    "#     scenario=scenario, station=station, builder=builder, meshcat=meshcat\n",
    "# )\n",
    "\n",
    "# # Connect point clouds with output port:\n",
    "# for idx, name in enumerate(to_point_cloud.keys()):\n",
    "#     builder.ExportOutput(\n",
    "#         to_point_cloud[name].get_output_port(), name+\"_ptcloud\")\n",
    "\n",
    "builder.ExportOutput(\n",
    "    station.GetOutputPort(\"mobile_iiwa.state_estimated\"),\n",
    "    \"mobile_iiwa.state_estimated\"\n",
    ")\n",
    "\n",
    "# builder.ExportInput(\n",
    "#     station.GetInputPort(\"mobile_iiwa.desired_state\"),\n",
    "#     \"mobile_iiwa.desired_state\"\n",
    "# )\n",
    "\n",
    "q_traj_system = builder.AddSystem(TrajectorySource(q_traj_final))\n",
    "g_traj_system = builder.AddSystem(TrajectorySource(traj_wsg_final))\n",
    "\n",
    "state_interpolator = builder.AddSystem(StateInterpolatorWithDiscreteDerivative(num_positions=10, time_step=0.1))\n",
    "\n",
    "# builder.Connect(\n",
    "#     q_traj_system.get_output_port(), station.GetInputPort(\"mobile_iiwa.desired_state\")\n",
    "# )\n",
    "\n",
    "builder.Connect(\n",
    "    q_traj_system.get_output_port(), state_interpolator.GetInputPort(\"position\")\n",
    ")\n",
    "\n",
    "builder.Connect(\n",
    "    state_interpolator.GetOutputPort(\"state\"), station.GetInputPort(\"mobile_iiwa.desired_state\")\n",
    ")\n",
    "\n",
    "builder.Connect(\n",
    "    g_traj_system.get_output_port(), station.GetInputPort(\"wsg.position\")\n",
    ")\n",
    "\n",
    "\n",
    "visualizer = MeshcatVisualizer.AddToBuilder(builder, station.GetOutputPort(\"query_object\"), meshcat)\n",
    "diagram = builder.Build()\n",
    "#diagram.set_name(\"plant and scene_graph\")\n",
    "diagram_context = diagram.CreateDefaultContext()\n",
    "scene_graph = diagram.GetSubsystemByName(\"station\").GetSubsystemByName(\"scene_graph\")\n",
    "sg_context = scene_graph.GetMyContextFromRoot(diagram_context)\n",
    "filterCollsionGeometry(scene_graph, sg_context)\n",
    "simulator = Simulator(diagram)"
   ]
  },
  {
   "cell_type": "code",
   "execution_count": 8,
   "metadata": {},
   "outputs": [],
   "source": [
    "visualizer.StartRecording(False)\n",
    "simulator.AdvanceTo(time_point_list[-1][1])\n",
    "visualizer.PublishRecording()"
   ]
  },
  {
   "cell_type": "code",
   "execution_count": null,
   "metadata": {},
   "outputs": [],
   "source": [
    "# visualizer.StartRecording(False)\n",
    "# simulator.AdvanceTo(2*time_point_list[-1][1]/4)\n",
    "# visualizer.PublishRecording()"
   ]
  },
  {
   "cell_type": "code",
   "execution_count": null,
   "metadata": {},
   "outputs": [],
   "source": [
    "# visualizer.StartRecording(False)\n",
    "# simulator.AdvanceTo(3*time_point_list[-1][1]/4)\n",
    "# visualizer.PublishRecording()"
   ]
  },
  {
   "cell_type": "code",
   "execution_count": null,
   "metadata": {},
   "outputs": [],
   "source": [
    "# visualizer.StartRecording(False)\n",
    "# simulator.AdvanceTo(time_point_list[-1][1])\n",
    "# visualizer.PublishRecording()"
   ]
  }
 ],
 "metadata": {
  "kernelspec": {
   "display_name": "Python 3",
   "language": "python",
   "name": "python3"
  },
  "language_info": {
   "codemirror_mode": {
    "name": "ipython",
    "version": 3
   },
   "file_extension": ".py",
   "mimetype": "text/x-python",
   "name": "python",
   "nbconvert_exporter": "python",
   "pygments_lexer": "ipython3",
   "version": "3.10.12"
  }
 },
 "nbformat": 4,
 "nbformat_minor": 2
}
